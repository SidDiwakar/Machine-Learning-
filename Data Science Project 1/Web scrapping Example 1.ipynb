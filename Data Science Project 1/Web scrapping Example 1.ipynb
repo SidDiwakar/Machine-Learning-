{
 "cells": [
  {
   "cell_type": "markdown",
   "metadata": {},
   "source": [
    "# Web scrapping Example 1"
   ]
  },
  {
   "cell_type": "code",
   "execution_count": 2,
   "metadata": {},
   "outputs": [],
   "source": [
    "import requests\n",
    "import pandas as pd\n",
    "import seaborn as sns\n",
    "from urllib.request import urlopen\n",
    "import matplotlib.pyplot as plt\n",
    "from bs4 import BeautifulSoup"
   ]
  },
  {
   "cell_type": "code",
   "execution_count": 4,
   "metadata": {},
   "outputs": [],
   "source": [
    "html = urlopen(\"http://www.hubertiming.com/results/2017GPTR10K\")\n",
    "soup = BeautifulSoup(html, 'lxml') # lxml or html5lib\n",
    "\n",
    "text = soup.get_text()"
   ]
  },
  {
   "cell_type": "code",
   "execution_count": 7,
   "metadata": {},
   "outputs": [
    {
     "data": {
      "text/plain": [
       "[<td>577</td>,\n",
       " <td>443</td>,\n",
       " <td>LIBBY B MITCHELL</td>,\n",
       " <td>F</td>,\n",
       " <td>HILLSBORO</td>,\n",
       " <td>OR</td>,\n",
       " <td>1:41:18</td>,\n",
       " <td>16:20</td>,\n",
       " <td>163 of 163</td>,\n",
       " <td>F 36-45</td>,\n",
       " <td>56 of 56</td>,\n",
       " <td>0:52</td>,\n",
       " <td>1:42:10</td>,\n",
       " <td></td>]"
      ]
     },
     "execution_count": 7,
     "metadata": {},
     "output_type": "execute_result"
    }
   ],
   "source": [
    "# rows of the table \n",
    "rows = soup.find_all('tr')\n",
    "\n",
    "for row in rows:\n",
    "    row_td = row.find_all('td')\n",
    "    \n",
    "row_td"
   ]
  },
  {
   "cell_type": "code",
   "execution_count": 8,
   "metadata": {},
   "outputs": [
    {
     "data": {
      "text/plain": [
       "'[577, 443, LIBBY B MITCHELL, F, HILLSBORO, OR, 1:41:18, 16:20, 163 of 163, F 36-45, 56 of 56, 0:52, 1:42:10, ]'"
      ]
     },
     "execution_count": 8,
     "metadata": {},
     "output_type": "execute_result"
    }
   ],
   "source": [
    "str_cells= str(row_td)\n",
    "cleantext = BeautifulSoup(str_cells, 'lxml').get_text()\n",
    "cleantext"
   ]
  },
  {
   "cell_type": "code",
   "execution_count": 9,
   "metadata": {},
   "outputs": [
    {
     "data": {
      "text/plain": [
       "[<th>Place</th>,\n",
       " <th>Bib</th>,\n",
       " <th>Name</th>,\n",
       " <th>Gender</th>,\n",
       " <th>City</th>,\n",
       " <th>State</th>,\n",
       " <th>Chip Time</th>,\n",
       " <th>Chip Pace</th>,\n",
       " <th>Gender Place</th>,\n",
       " <th>Age Group</th>,\n",
       " <th>Age Group Place</th>,\n",
       " <th>Time to Start</th>,\n",
       " <th>Gun Time</th>,\n",
       " <th>Team</th>]"
      ]
     },
     "execution_count": 9,
     "metadata": {},
     "output_type": "execute_result"
    }
   ],
   "source": [
    "col_labels = soup.find_all('th')\n",
    "col_labels"
   ]
  },
  {
   "cell_type": "code",
   "execution_count": 11,
   "metadata": {},
   "outputs": [
    {
     "data": {
      "text/plain": [
       "'[Place, Bib, Name, Gender, City, State, Chip Time, Chip Pace, Gender Place, Age Group, Age Group Place, Time to Start, Gun Time, Team]'"
      ]
     },
     "execution_count": 11,
     "metadata": {},
     "output_type": "execute_result"
    }
   ],
   "source": [
    "All_headers= str(col_labels)\n",
    "cleantext1 = BeautifulSoup(All_headers, 'lxml').get_text()\n",
    "cleantext1"
   ]
  },
  {
   "cell_type": "code",
   "execution_count": null,
   "metadata": {
    "collapsed": true
   },
   "outputs": [],
   "source": []
  }
 ],
 "metadata": {
  "kernelspec": {
   "display_name": "Python 3",
   "language": "python",
   "name": "python3"
  },
  "language_info": {
   "codemirror_mode": {
    "name": "ipython",
    "version": 3
   },
   "file_extension": ".py",
   "mimetype": "text/x-python",
   "name": "python",
   "nbconvert_exporter": "python",
   "pygments_lexer": "ipython3",
   "version": "3.6.3"
  }
 },
 "nbformat": 4,
 "nbformat_minor": 2
}
