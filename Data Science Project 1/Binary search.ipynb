{
 "cells": [
  {
   "cell_type": "code",
   "execution_count": 18,
   "metadata": {
    "collapsed": true
   },
   "outputs": [],
   "source": [
    "import math\n",
    "\n",
    "def binary_Search(arr, l , r , x):\n",
    "    \n",
    "    #check the base case\n",
    "    if r>l:\n",
    "        mid = 1+ math.floor((r-l)/2)\n",
    "        \n",
    "        # if the element is present at the middle itself\n",
    "        if arr[mid] == x:\n",
    "            return mid\n",
    "        \n",
    "        # if the element is smaller than mid, then it can only present in the left subarray\n",
    "        elif arr[mid] > x:\n",
    "            return binary_Search(arr, l, mid-1,x)\n",
    "        \n",
    "        # Eles the element can only be present in right subarray\n",
    "        # if the element is smaller than mid, then it can only present in the left subarray\n",
    "        else:\n",
    "            return binary_Search(arr,mid+1, r , x)\n",
    "        \n",
    "    #Element is not present in the array\n",
    "    else:\n",
    "        return -l\n",
    "        "
   ]
  },
  {
   "cell_type": "code",
   "execution_count": 19,
   "metadata": {},
   "outputs": [
    {
     "data": {
      "text/plain": [
       "-3"
      ]
     },
     "execution_count": 19,
     "metadata": {},
     "output_type": "execute_result"
    }
   ],
   "source": [
    "binary_Search([23,34,45,55,67,88,98],0,len([23,34,45,55,67,88,98])-1,55)"
   ]
  },
  {
   "cell_type": "code",
   "execution_count": 17,
   "metadata": {},
   "outputs": [
    {
     "ename": "RecursionError",
     "evalue": "maximum recursion depth exceeded in comparison",
     "output_type": "error",
     "traceback": [
      "\u001b[1;31m---------------------------------------------------------------------------\u001b[0m",
      "\u001b[1;31mRecursionError\u001b[0m                            Traceback (most recent call last)",
      "\u001b[1;32m<ipython-input-17-79cc111c3f1a>\u001b[0m in \u001b[0;36m<module>\u001b[1;34m()\u001b[0m\n\u001b[1;32m----> 1\u001b[1;33m \u001b[0mbinary_Search\u001b[0m\u001b[1;33m(\u001b[0m\u001b[1;33m[\u001b[0m\u001b[1;36m23\u001b[0m\u001b[1;33m,\u001b[0m\u001b[1;36m34\u001b[0m\u001b[1;33m,\u001b[0m\u001b[1;36m45\u001b[0m\u001b[1;33m,\u001b[0m\u001b[1;36m55\u001b[0m\u001b[1;33m,\u001b[0m\u001b[1;36m67\u001b[0m\u001b[1;33m,\u001b[0m\u001b[1;36m88\u001b[0m\u001b[1;33m,\u001b[0m\u001b[1;36m98\u001b[0m\u001b[1;33m]\u001b[0m\u001b[1;33m,\u001b[0m\u001b[1;36m0\u001b[0m\u001b[1;33m,\u001b[0m\u001b[0mlen\u001b[0m\u001b[1;33m(\u001b[0m\u001b[1;33m[\u001b[0m\u001b[1;36m23\u001b[0m\u001b[1;33m,\u001b[0m\u001b[1;36m34\u001b[0m\u001b[1;33m,\u001b[0m\u001b[1;36m45\u001b[0m\u001b[1;33m,\u001b[0m\u001b[1;36m55\u001b[0m\u001b[1;33m,\u001b[0m\u001b[1;36m67\u001b[0m\u001b[1;33m,\u001b[0m\u001b[1;36m88\u001b[0m\u001b[1;33m,\u001b[0m\u001b[1;36m98\u001b[0m\u001b[1;33m]\u001b[0m\u001b[1;33m)\u001b[0m\u001b[1;33m-\u001b[0m\u001b[1;36m1\u001b[0m\u001b[1;33m,\u001b[0m\u001b[1;36m88\u001b[0m\u001b[1;33m)\u001b[0m\u001b[1;33m\u001b[0m\u001b[0m\n\u001b[0m",
      "\u001b[1;32m<ipython-input-15-1835232a3356>\u001b[0m in \u001b[0;36mbinary_Search\u001b[1;34m(arr, l, r, x)\u001b[0m\n\u001b[0;32m     18\u001b[0m         \u001b[1;31m# if the element is smaller than mid, then it can only present in the left subarray\u001b[0m\u001b[1;33m\u001b[0m\u001b[1;33m\u001b[0m\u001b[0m\n\u001b[0;32m     19\u001b[0m         \u001b[1;32melse\u001b[0m\u001b[1;33m:\u001b[0m\u001b[1;33m\u001b[0m\u001b[0m\n\u001b[1;32m---> 20\u001b[1;33m             \u001b[1;32mreturn\u001b[0m \u001b[0mbinary_Search\u001b[0m\u001b[1;33m(\u001b[0m\u001b[0marr\u001b[0m\u001b[1;33m,\u001b[0m\u001b[0mmid\u001b[0m\u001b[1;33m+\u001b[0m\u001b[1;36m1\u001b[0m\u001b[1;33m,\u001b[0m \u001b[0mr\u001b[0m \u001b[1;33m,\u001b[0m \u001b[0mx\u001b[0m\u001b[1;33m)\u001b[0m\u001b[1;33m\u001b[0m\u001b[0m\n\u001b[0m\u001b[0;32m     21\u001b[0m \u001b[1;33m\u001b[0m\u001b[0m\n\u001b[0;32m     22\u001b[0m     \u001b[1;31m#Element is not present in the array\u001b[0m\u001b[1;33m\u001b[0m\u001b[1;33m\u001b[0m\u001b[0m\n",
      "... last 1 frames repeated, from the frame below ...\n",
      "\u001b[1;32m<ipython-input-15-1835232a3356>\u001b[0m in \u001b[0;36mbinary_Search\u001b[1;34m(arr, l, r, x)\u001b[0m\n\u001b[0;32m     18\u001b[0m         \u001b[1;31m# if the element is smaller than mid, then it can only present in the left subarray\u001b[0m\u001b[1;33m\u001b[0m\u001b[1;33m\u001b[0m\u001b[0m\n\u001b[0;32m     19\u001b[0m         \u001b[1;32melse\u001b[0m\u001b[1;33m:\u001b[0m\u001b[1;33m\u001b[0m\u001b[0m\n\u001b[1;32m---> 20\u001b[1;33m             \u001b[1;32mreturn\u001b[0m \u001b[0mbinary_Search\u001b[0m\u001b[1;33m(\u001b[0m\u001b[0marr\u001b[0m\u001b[1;33m,\u001b[0m\u001b[0mmid\u001b[0m\u001b[1;33m+\u001b[0m\u001b[1;36m1\u001b[0m\u001b[1;33m,\u001b[0m \u001b[0mr\u001b[0m \u001b[1;33m,\u001b[0m \u001b[0mx\u001b[0m\u001b[1;33m)\u001b[0m\u001b[1;33m\u001b[0m\u001b[0m\n\u001b[0m\u001b[0;32m     21\u001b[0m \u001b[1;33m\u001b[0m\u001b[0m\n\u001b[0;32m     22\u001b[0m     \u001b[1;31m#Element is not present in the array\u001b[0m\u001b[1;33m\u001b[0m\u001b[1;33m\u001b[0m\u001b[0m\n",
      "\u001b[1;31mRecursionError\u001b[0m: maximum recursion depth exceeded in comparison"
     ]
    }
   ],
   "source": [
    "binary_Search([23,34,45,55,67,88,98],0,len([23,34,45,55,67,88,98])-1,88)"
   ]
  },
  {
   "cell_type": "code",
   "execution_count": 36,
   "metadata": {},
   "outputs": [
    {
     "name": "stdout",
     "output_type": "stream",
     "text": [
      "[44, 5, 6, 93, 18, 13, 92, 57, 28, 55, 45, 59, 99, 54, 52, 51, 34, 96, 12, 16, 71, 67, 90, 9, 20, 75, 56, 33, 29, 78, 14, 37, 69, 66, 60, 46, 64, 21, 4, 10, 7, 89, 86, 26, 23, 19, 82, 32, 3, 27, 31, 63, 0, 74, 73, 80, 24, 91, 50, 49, 48, 94, 62, 97, 65, 36, 70, 53, 83, 17, 8, 39, 15, 98, 84, 42, 40, 43, 87, 47, 35, 22, 85, 41, 79, 68, 38, 25, 95, 61, 1, 58, 77, 72, 11, 81, 2, 88, 30, 76]\n",
      "[1, 7, 10, 40, 22, 33, 14, 39, 44, 19, 42, 43, 47, 27, 37, 38, 11, 16, 32, 24, 34, 0, 46, 26, 4, 41, 21, 2, 6, 18, 25, 29, 5, 28, 48, 12, 45, 30, 15, 13, 35, 9, 49, 36, 31, 23, 17, 20, 3, 8]\n",
      "44\n",
      "5\n",
      "6\n",
      "18\n",
      "13\n",
      "28\n",
      "45\n",
      "34\n",
      "12\n",
      "16\n",
      "9\n",
      "20\n",
      "33\n",
      "29\n",
      "14\n",
      "37\n",
      "46\n",
      "21\n",
      "4\n",
      "10\n",
      "7\n",
      "26\n",
      "23\n",
      "19\n",
      "32\n",
      "3\n",
      "27\n",
      "31\n",
      "0\n",
      "24\n",
      "49\n",
      "48\n",
      "36\n",
      "17\n",
      "8\n",
      "39\n",
      "15\n",
      "42\n",
      "40\n",
      "43\n",
      "47\n",
      "35\n",
      "22\n",
      "41\n",
      "38\n",
      "25\n",
      "1\n",
      "11\n",
      "2\n",
      "30\n",
      "Number of common elements :  50\n"
     ]
    }
   ],
   "source": [
    "import random\n",
    "\n",
    "l1 = list(range(100))\n",
    "random.shuffle(l1)\n",
    "print(l1)\n",
    "\n",
    "l2 = list(range(50))\n",
    "random.shuffle(l2)\n",
    "print(l2)\n",
    "\n",
    "count =0\n",
    "for i in l1:\n",
    "    for j in l2:\n",
    "        if i==j:\n",
    "            print(j)\n",
    "            count+=1\n",
    "            \n",
    "            \n",
    "print(\"Number of common elements : \" , count)"
   ]
  },
  {
   "cell_type": "code",
   "execution_count": 32,
   "metadata": {},
   "outputs": [
    {
     "name": "stdout",
     "output_type": "stream",
     "text": [
      "50\n"
     ]
    }
   ],
   "source": [
    "l3 = [82, 55, 33, 53, 8, 19, 51, 87, 6, 62, 74, 68, 4, 88, 3, 71, 24, 26, 59, 78, 31, 1, 66, 25, 40, 43, 70, 85, 20, 2, 73, 58, 97, 67, 77, 30, 27, 60, 5, 98, 63, 42, 28, 41, 91, 37, 64, 23, 32, 9, 80, 99, 92, 38, 93, 48, 13, 14, 50, 47, 44, 96, 0, 69, 35, 17, 7, 65, 81, 79, 95, 18, 29, 15, 45, 49, 34, 83, 75, 22, 11, 16, 10, 39, 84, 72, 46, 12, 94, 89, 54, 76, 52, 56, 21, 57, 90, 86, 61, 36]\n",
    "l4 = [12, 5, 6, 47, 27, 37, 22, 3, 32, 4, 20, 45, 19, 41, 29, 42, 11, 15, 30, 1, 49, 28, 35, 18, 39, 8, 26, 48, 21, 33, 16, 38, 44, 14, 10, 40, 43, 9, 13, 25, 46, 17, 31, 34, 7, 2, 23, 36, 24, 0]\n",
    "count =0\n",
    "for i in l3:\n",
    "    for j in l4:\n",
    "        if i==j:\n",
    "            count +=1\n",
    "print(count)"
   ]
  },
  {
   "cell_type": "code",
   "execution_count": null,
   "metadata": {
    "collapsed": true
   },
   "outputs": [],
   "source": []
  }
 ],
 "metadata": {
  "kernelspec": {
   "display_name": "Python 3",
   "language": "python",
   "name": "python3"
  },
  "language_info": {
   "codemirror_mode": {
    "name": "ipython",
    "version": 3
   },
   "file_extension": ".py",
   "mimetype": "text/x-python",
   "name": "python",
   "nbconvert_exporter": "python",
   "pygments_lexer": "ipython3",
   "version": "3.6.3"
  }
 },
 "nbformat": 4,
 "nbformat_minor": 2
}
