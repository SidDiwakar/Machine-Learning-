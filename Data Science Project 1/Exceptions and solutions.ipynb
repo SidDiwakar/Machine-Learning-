{
 "cells": [
  {
   "cell_type": "markdown",
   "metadata": {},
   "source": [
    "# List of Exceptions and Solution"
   ]
  },
  {
   "cell_type": "raw",
   "metadata": {},
   "source": [
    "URLError: <urlopen error [Errno 11001] getaddrinfo failed>\n",
    "    \n",
    "    solution: \n",
    "        the url that you have given in the read_csv(\"url\"), that file is not present in your system.so download the file."
   ]
  },
  {
   "cell_type": "raw",
   "metadata": {},
   "source": [
    "ValueError: labels ['Engine Fuel Type' 'Market Category' 'Vehicle Style' 'Popularity'\n",
    " 'Number of Doors' 'Vehicle Size'] not contained in axis\n",
    "    \n",
    "    solution:\n",
    "        in this case while dropping a column provide the axis as well. "
   ]
  },
  {
   "cell_type": "code",
   "execution_count": null,
   "metadata": {
    "collapsed": true
   },
   "outputs": [],
   "source": []
  }
 ],
 "metadata": {
  "kernelspec": {
   "display_name": "Python 3",
   "language": "python",
   "name": "python3"
  },
  "language_info": {
   "codemirror_mode": {
    "name": "ipython",
    "version": 3
   },
   "file_extension": ".py",
   "mimetype": "text/x-python",
   "name": "python",
   "nbconvert_exporter": "python",
   "pygments_lexer": "ipython3",
   "version": "3.6.3"
  }
 },
 "nbformat": 4,
 "nbformat_minor": 2
}
